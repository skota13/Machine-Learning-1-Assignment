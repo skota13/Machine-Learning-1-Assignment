{
 "cells": [
  {
   "cell_type": "markdown",
   "metadata": {},
   "source": [
    "# MACHINE LEARNING 1 ASSIGNMENT"
   ]
  },
  {
   "cell_type": "markdown",
   "metadata": {},
   "source": [
    "1. What are the three stages to build the hypotheses or model in machine learning?"
   ]
  },
  {
   "cell_type": "markdown",
   "metadata": {},
   "source": [
    "The three stages of building a hypothesis in ML are:\n",
    "    1. Building the Model\n",
    "    2. Testing the Model\n",
    "    3. Applying the Model"
   ]
  },
  {
   "cell_type": "markdown",
   "metadata": {},
   "source": [
    "2. What is the standard approach to supervised learning?"
   ]
  },
  {
   "cell_type": "markdown",
   "metadata": {},
   "source": [
    "Splitting the Data into Training set and Test Set"
   ]
  },
  {
   "cell_type": "markdown",
   "metadata": {},
   "source": [
    "3. What is Training set and Test set?"
   ]
  },
  {
   "cell_type": "markdown",
   "metadata": {},
   "source": [
    "A set of Data that is used to train the model is called the Training set\n",
    "\n",
    "A set of data used to Test the trained model to check the effectiveness & accuracy of the model is the Test Set"
   ]
  },
  {
   "cell_type": "markdown",
   "metadata": {},
   "source": [
    "4. What is the general principle of an ensemble method and what is bagging and boosting in ensemble method?"
   ]
  },
  {
   "cell_type": "markdown",
   "metadata": {},
   "source": [
    "The general principle of an ensemble method is to combine predictions of several base models in order to improve the prediction efficiency of the final model. Combine several model can be done either Sequentially or in Parallel. If the training of models is done in parallel it is called as BAGGING and if the same is done in Sequence it is called BOOSTING. BAGGING helps in reducing the Variance without impacting the Bias error, while BOOSTING helps in reducing the Bias error, without impacting the Variance error "
   ]
  },
  {
   "cell_type": "markdown",
   "metadata": {},
   "source": [
    "5. How can you avoid overfitting ?"
   ]
  },
  {
   "cell_type": "code",
   "execution_count": null,
   "metadata": {},
   "outputs": [],
   "source": [
    "Overfitting happens when we train the model using smaller Datasets. Overfitting can be avoided using large datasets\n",
    "If there is a challenge to produce large datasets and we have only smaller datasets then using Cross-Validation would help\n",
    "in avoiding Overfitting. Cross-Validation means, breaking the datasets in to two datasets i.e Training Dataset and Test Dataset. "
   ]
  }
 ],
 "metadata": {
  "kernelspec": {
   "display_name": "Python 3",
   "language": "python",
   "name": "python3"
  },
  "language_info": {
   "codemirror_mode": {
    "name": "ipython",
    "version": 3
   },
   "file_extension": ".py",
   "mimetype": "text/x-python",
   "name": "python",
   "nbconvert_exporter": "python",
   "pygments_lexer": "ipython3",
   "version": "3.6.5"
  }
 },
 "nbformat": 4,
 "nbformat_minor": 2
}
